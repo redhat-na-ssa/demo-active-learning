{
 "cells": [
  {
   "cell_type": "markdown",
   "id": "24547e1b-3b4e-4612-b08b-5969cf69c26d",
   "metadata": {},
   "source": [
    "# Setup"
   ]
  },
  {
   "cell_type": "code",
   "execution_count": null,
   "id": "dc75b653-8a19-4b41-a579-ca3a2d32603c",
   "metadata": {},
   "outputs": [],
   "source": [
    "import os\n",
    "\n",
    "# scratch directory is apart of the .gitignore to ensure it is not committed to git\n",
    "%env SCRATCH=../scratch\n",
    "scratch_path = os.environ.get(\"SCRATCH\", \"scratch\")"
   ]
  },
  {
   "cell_type": "code",
   "execution_count": null,
   "id": "8306967e-7ee7-4fe0-8c56-754aed28f6ab",
   "metadata": {},
   "outputs": [],
   "source": [
    "# install dependencies\n",
    "%pip install -q -U pip\n",
    "%pip install -q -r requirements.txt"
   ]
  },
  {
   "cell_type": "code",
   "execution_count": null,
   "id": "d0ee5b19-ac16-4e0f-a448-212a8bd4b403",
   "metadata": {},
   "outputs": [],
   "source": [
    "import numpy as np \n",
    "import pandas as pd \n",
    "import seaborn as sns\n",
    "from IPython.display import display, Image\n",
    "from PIL import Image \n",
    "from PIL import ImageEnhance\n",
    "from skimage.io import imread\n",
    "import matplotlib.pyplot as plt\n",
    "\n",
    "import os, random, pathlib, warnings, itertools, math\n",
    "warnings.filterwarnings(\"ignore\")\n",
    "\n",
    "import tensorflow as tf\n",
    "import tensorflow.keras.backend as K\n",
    "from sklearn.metrics import confusion_matrix\n",
    "\n",
    "from tensorflow.keras import models\n",
    "from tensorflow.keras.models import Model\n",
    "from tensorflow.keras.models import load_model\n",
    "from tensorflow.keras.preprocessing import image\n",
    "from tensorflow.keras.applications.inception_v3 import InceptionV3,preprocess_input\n",
    "from tensorflow.keras.layers import Dense, Flatten, GlobalAveragePooling2D, Dense, Dropout\n",
    "\n",
    "K.clear_session()"
   ]
  },
  {
   "cell_type": "markdown",
   "id": "6fea50fc-5ab5-4eeb-8a05-6af83ca2688b",
   "metadata": {},
   "source": [
    "# Load the data"
   ]
  },
  {
   "cell_type": "code",
   "execution_count": null,
   "id": "c06f8ca2-b0f0-451d-9ced-d228d0f74905",
   "metadata": {},
   "outputs": [],
   "source": [
    "# setup paths for data\n",
    "dataset = scratch_path + \"/Vegetable Images/\"\n",
    "\n",
    "train_folder = os.path.join(dataset, \"train\")\n",
    "test_folder = os.path.join(dataset, \"validation\")\n",
    "validation_folder = os.path.join(dataset, \"test\")"
   ]
  },
  {
   "cell_type": "markdown",
   "id": "c3bf7c47-294d-4305-b7ae-8417fa4ca4c9",
   "metadata": {},
   "source": [
    "# Load the model"
   ]
  },
  {
   "cell_type": "code",
   "execution_count": null,
   "id": "e12333ec-349b-47a5-ad9c-7eccdd000f70",
   "metadata": {},
   "outputs": [],
   "source": [
    "model_metadata = \"_inceptionV3_epoch5\"\n",
    "path_to_model = scratch_path + \"/models/model\" + model_metadata + \".h5\""
   ]
  },
  {
   "cell_type": "code",
   "execution_count": null,
   "id": "49379519-27bf-4fe6-a13c-10f824ab6815",
   "metadata": {},
   "outputs": [],
   "source": [
    "print(\"Model: Loading...\")\n",
    "model = load_model(path_to_model)\n",
    "print(\"Model: Loaded\")"
   ]
  },
  {
   "cell_type": "code",
   "execution_count": null,
   "id": "52517569-a29f-4fd9-9d91-d65bcfcd8408",
   "metadata": {},
   "outputs": [],
   "source": [
    "category={\n",
    "    0: 'Bean', 1: 'Bitter_Gourd', 2: 'Bottle_Gourd', 3 : 'Brinjal', 4: \"Broccoli\", 5: 'Cabbage', 6: 'Capsicum', 7: 'Carrot', 8: 'Cauliflower',\n",
    "    9: 'Cucumber', 10: 'Papaya', 11: 'Potato', 12: 'Pumpkin', 13 : \"Radish\", 14: \"Tomato\"\n",
    "}\n",
    "\n",
    "def predict_image(filename,model):\n",
    "    img_ = image.load_img(filename, target_size=(224, 224))\n",
    "    img_array = image.img_to_array(img_)\n",
    "    img_processed = np.expand_dims(img_array, axis=0) \n",
    "    img_processed /= 255.   \n",
    "    \n",
    "    prediction = model.predict(img_processed)\n",
    "    index = np.argmax(prediction)\n",
    "    \n",
    "    plt.title(\"Prediction - {}\".format(category[index]))\n",
    "    plt.imshow(img_array)\n",
    "    \n",
    "def predict_dir(filedir,model):\n",
    "    cols=3\n",
    "    pos=0\n",
    "    images=[]\n",
    "    total_images=len(os.listdir(filedir))\n",
    "    rows=total_images//cols + 1\n",
    "    \n",
    "    true=filedir.split('/')[-1]\n",
    "    \n",
    "    for i in sorted(os.listdir(filedir)):\n",
    "        images.append(os.path.join(filedir,i))\n",
    "        \n",
    "    for subplot, imggg in enumerate(images):\n",
    "        img_ = image.load_img(imggg, target_size=(224, 224))\n",
    "        img_array = image.img_to_array(img_)\n",
    "        img_processed = np.expand_dims(img_array, axis=0) \n",
    "        img_processed /= 255.\n",
    "        prediction = model.predict(img_processed)\n",
    "        index = np.argmax(prediction)\n",
    "        \n",
    "        pred=category.get(index)\n",
    "        if pred==true:\n",
    "            pos+=1\n",
    "\n",
    "    acc=pos/total_images\n",
    "    print(\"Accuracy for {orignal}: {:.2f} ({pos}/{total})\".format(acc,pos=pos,total=total_images,orignal=true))"
   ]
  },
  {
   "cell_type": "markdown",
   "id": "70b0c5fe-6741-4ced-a4f9-a8ec63c98ec7",
   "metadata": {},
   "source": [
    "# Single image"
   ]
  },
  {
   "cell_type": "code",
   "execution_count": null,
   "id": "7ef48e61-b3a6-48e2-910d-0714de83193d",
   "metadata": {},
   "outputs": [],
   "source": [
    "predict_image(os.path.join(validation_folder,'Cauliflower/1064.jpg'),model)"
   ]
  },
  {
   "cell_type": "markdown",
   "id": "76d94195-2222-4557-bc57-c2a25cbcd6a9",
   "metadata": {},
   "source": [
    "# Directory of images"
   ]
  },
  {
   "cell_type": "code",
   "execution_count": null,
   "id": "ea97efd4-5c8d-46c6-8238-021267b9fc8c",
   "metadata": {},
   "outputs": [],
   "source": [
    "#TODO this works, but need to cleanup output\n",
    "for i in os.listdir(test_folder):\n",
    "    predict_dir(os.path.join(test_folder,i),model)"
   ]
  },
  {
   "cell_type": "code",
   "execution_count": null,
   "id": "7fb00a19-0f9b-4b38-ab8c-08da45e37d9c",
   "metadata": {},
   "outputs": [],
   "source": [
    "# TODO option to cleanup output\n",
    "from IPython.utils import io\n",
    "\n",
    "for i in os.listdir(test_folder):\n",
    "    with io.capture_output() as captured:\n",
    "        predict_dir(os.path.join(test_folder, i), model)"
   ]
  },
  {
   "cell_type": "markdown",
   "id": "bc5b23d8-3713-4abd-9b2b-2bbe70027fa0",
   "metadata": {},
   "source": [
    "## Visualize incorrect predictions\n",
    "Visualizing all incorrect images predicted for a particular vegetable category by our classifier."
   ]
  },
  {
   "cell_type": "code",
   "execution_count": null,
   "id": "f03406f3-3f27-4a0b-8604-d5b71e20204f",
   "metadata": {},
   "outputs": [],
   "source": [
    "def wrong_input_capture(test_category):\n",
    "    \n",
    "    a=os.path.basename(test_category)\n",
    "    wrong_array=[]\n",
    "    \n",
    "    for i in os.listdir(test_category):\n",
    "        \n",
    "        imggg=os.path.join(test_category,i)\n",
    "        \n",
    "        img_ = image.load_img(imggg, target_size=(224, 224))\n",
    "        img_array = image.img_to_array(img_)\n",
    "        img_processed = np.expand_dims(img_array, axis=0) \n",
    "        img_processed /= 255.\n",
    "        prediction = model.predict(img_processed)\n",
    "        \n",
    "        index = np.argmax(prediction)\n",
    "        pred=category.get(index)\n",
    "        \n",
    "        if not pred==a:\n",
    "            wrong_array.append((imggg,pred))\n",
    "            \n",
    "    return wrong_array\n",
    "    \n",
    "def visualize_wrong_input(images):\n",
    "    \n",
    "    fig=plt.figure(1, figsize=(20, 25))\n",
    "    total_images=len(images)\n",
    "    rows=math.ceil(float(total_images/3))\n",
    "    for subplot,(image_path,predicted) in enumerate(images):\n",
    "        img = plt.imread(image_path)\n",
    "        fig=plt.subplot(rows, 3, subplot+1)\n",
    "        fig.set_title(\"Predicted - {}\".format(predicted), pad = 10,size=18)\n",
    "        plt.imshow(img)\n",
    "        \n",
    "    plt.tight_layout()"
   ]
  }
 ],
 "metadata": {
  "kernelspec": {
   "display_name": "Python 3.9.16",
   "language": "python",
   "name": "python3"
  },
  "language_info": {
   "codemirror_mode": {
    "name": "ipython",
    "version": 3
   },
   "file_extension": ".py",
   "mimetype": "text/x-python",
   "name": "python",
   "nbconvert_exporter": "python",
   "pygments_lexer": "ipython3",
   "version": "3.9.16"
  }
 },
 "nbformat": 4,
 "nbformat_minor": 5
}
