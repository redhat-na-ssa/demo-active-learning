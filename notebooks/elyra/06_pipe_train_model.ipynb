{
 "cells": [
  {
   "attachments": {},
   "cell_type": "markdown",
   "id": "5ddcedbe-e0cc-43c8-96dc-b4320eccca7e",
   "metadata": {},
   "source": [
    "# Setup"
   ]
  },
  {
   "cell_type": "code",
   "execution_count": null,
   "id": "dc75b653-8a19-4b41-a579-ca3a2d32603c",
   "metadata": {},
   "outputs": [],
   "source": [
    "import os\n",
    "\n",
    "# scratch directory is apart of the .gitignore to ensure it is not committed to git\n",
    "%env SCRATCH=../scratch\n",
    "scratch_path = os.environ.get(\"SCRATCH\", \"scratch\")"
   ]
  },
  {
   "cell_type": "code",
   "execution_count": null,
   "id": "8306967e-7ee7-4fe0-8c56-754aed28f6ab",
   "metadata": {},
   "outputs": [],
   "source": [
    "# install dependencies\n",
    "%pip install -q -U pip\n",
    "%pip install -q -r requirements.txt"
   ]
  },
  {
   "cell_type": "code",
   "execution_count": null,
   "id": "d0ee5b19-ac16-4e0f-a448-212a8bd4b403",
   "metadata": {},
   "outputs": [],
   "source": [
    "import numpy as np\n",
    "import pandas as pd\n",
    "import seaborn as sns\n",
    "from IPython.display import display, Image\n",
    "from PIL import Image\n",
    "from PIL import ImageEnhance\n",
    "from skimage.io import imread\n",
    "import matplotlib.pyplot as plt\n",
    "\n",
    "import os, random, pathlib, warnings, itertools, math\n",
    "\n",
    "warnings.filterwarnings(\"ignore\")\n",
    "\n",
    "import tensorflow as tf\n",
    "import tensorflow.keras.backend as K\n",
    "from sklearn.metrics import confusion_matrix\n",
    "\n",
    "from tensorflow.keras import models\n",
    "from tensorflow.keras.models import Model\n",
    "from tensorflow.keras.models import load_model\n",
    "from tensorflow.keras.preprocessing import image\n",
    "from tensorflow.keras.applications.inception_v3 import InceptionV3, preprocess_input\n",
    "from tensorflow.keras.layers import (\n",
    "    Dense,\n",
    "    Flatten,\n",
    "    GlobalAveragePooling2D,\n",
    "    Dense,\n",
    "    Dropout,\n",
    ")\n",
    "\n",
    "K.clear_session()"
   ]
  },
  {
   "attachments": {},
   "cell_type": "markdown",
   "id": "e0125a51-151c-418c-825b-bb7bffc8ff32",
   "metadata": {},
   "source": [
    "# Load the data"
   ]
  },
  {
   "cell_type": "code",
   "execution_count": null,
   "id": "c06f8ca2-b0f0-451d-9ced-d228d0f74905",
   "metadata": {},
   "outputs": [],
   "source": [
    "# setup paths for data\n",
    "dataset = scratch_path + \"/Vegetable Images/\"\n",
    "\n",
    "train_folder = os.path.join(dataset, \"train\")\n",
    "test_folder = os.path.join(dataset, \"validation\")\n",
    "validation_folder = os.path.join(dataset, \"test\")"
   ]
  },
  {
   "attachments": {},
   "cell_type": "markdown",
   "id": "ef242e3e-cdc5-4190-a800-5ab2151cd71f",
   "metadata": {},
   "source": [
    "# Model Training"
   ]
  },
  {
   "cell_type": "code",
   "execution_count": null,
   "id": "0368760f-9bd1-4ef6-a369-bccc11059585",
   "metadata": {},
   "outputs": [],
   "source": [
    "model_metadata = \"_inceptionV3_epoch5\"\n",
    "path_to_model = scratch_path + \"/models/model\" + model_metadata + \".h5\""
   ]
  },
  {
   "cell_type": "code",
   "execution_count": null,
   "id": "70f6f8e8-529c-4766-be55-f62ad4ed576c",
   "metadata": {},
   "outputs": [],
   "source": [
    "if not os.path.exists(path_to_model):\n",
    "    print(\"Model: Training...\")\n",
    "    history = model.fit_generator(\n",
    "        train_dataset,\n",
    "        validation_data=test_dataset,\n",
    "        epochs=5,\n",
    "        steps_per_epoch=len(train_dataset),\n",
    "        validation_steps=len(test_dataset),\n",
    "    )\n",
    "    print(\"Model: Trained\")\n",
    "\n",
    "    print(\"Model: Saving...\")\n",
    "    model.save(path_to_model)\n",
    "    print(\"Model: Saved\")\n",
    "\n",
    "else:\n",
    "    print(\"Model: Already Exists\")\n",
    "    model = load_model(path_to_model)"
   ]
  },
  {
   "cell_type": "code",
   "execution_count": null,
   "id": "630caf2e-7124-4d42-b9b7-1c5200bac770",
   "metadata": {},
   "outputs": [],
   "source": []
  }
 ],
 "metadata": {
  "kernelspec": {
   "display_name": "Python 3.9.16",
   "language": "python",
   "name": "python3"
  },
  "language_info": {
   "codemirror_mode": {
    "name": "ipython",
    "version": 3
   },
   "file_extension": ".py",
   "mimetype": "text/x-python",
   "name": "python",
   "nbconvert_exporter": "python",
   "pygments_lexer": "ipython3",
   "version": "3.9.16"
  }
 },
 "nbformat": 4,
 "nbformat_minor": 5
}
