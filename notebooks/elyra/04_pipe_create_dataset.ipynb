{
 "cells": [
  {
   "attachments": {},
   "cell_type": "markdown",
   "id": "28ffa06e-3b84-4f22-9a79-452d8b91a5fe",
   "metadata": {},
   "source": [
    "# Setup"
   ]
  },
  {
   "cell_type": "code",
   "execution_count": null,
   "id": "dc75b653-8a19-4b41-a579-ca3a2d32603c",
   "metadata": {},
   "outputs": [],
   "source": [
    "import os\n",
    "\n",
    "# scratch directory is apart of the .gitignore to ensure it is not committed to git\n",
    "%env SCRATCH=../scratch\n",
    "scratch_path = os.environ.get(\"SCRATCH\", \"scratch\")"
   ]
  },
  {
   "cell_type": "code",
   "execution_count": null,
   "id": "8306967e-7ee7-4fe0-8c56-754aed28f6ab",
   "metadata": {},
   "outputs": [],
   "source": [
    "# install dependencies\n",
    "%pip install -q -U pip\n",
    "%pip install -q -r requirements.txt"
   ]
  },
  {
   "cell_type": "code",
   "execution_count": null,
   "id": "d0ee5b19-ac16-4e0f-a448-212a8bd4b403",
   "metadata": {},
   "outputs": [],
   "source": [
    "import numpy as np\n",
    "import pandas as pd\n",
    "import seaborn as sns\n",
    "from IPython.display import display, Image\n",
    "from PIL import Image\n",
    "from PIL import ImageEnhance\n",
    "from skimage.io import imread\n",
    "import matplotlib.pyplot as plt\n",
    "\n",
    "import os, random, pathlib, warnings, itertools, math\n",
    "\n",
    "warnings.filterwarnings(\"ignore\")\n",
    "\n",
    "import tensorflow as tf\n",
    "import tensorflow.keras.backend as K\n",
    "from sklearn.metrics import confusion_matrix\n",
    "\n",
    "from tensorflow.keras import models\n",
    "from tensorflow.keras.models import Model\n",
    "from tensorflow.keras.models import load_model\n",
    "from tensorflow.keras.preprocessing import image\n",
    "from tensorflow.keras.applications.inception_v3 import InceptionV3, preprocess_input\n",
    "from tensorflow.keras.layers import (\n",
    "    Dense,\n",
    "    Flatten,\n",
    "    GlobalAveragePooling2D,\n",
    "    Dense,\n",
    "    Dropout,\n",
    ")\n",
    "\n",
    "K.clear_session()"
   ]
  },
  {
   "attachments": {},
   "cell_type": "markdown",
   "id": "a80a0ab1-7f9b-4d51-bae0-e3caf8d2e418",
   "metadata": {},
   "source": [
    "# Load the data"
   ]
  },
  {
   "cell_type": "code",
   "execution_count": null,
   "id": "c06f8ca2-b0f0-451d-9ced-d228d0f74905",
   "metadata": {},
   "outputs": [],
   "source": [
    "# setup paths for data\n",
    "dataset = scratch_path + \"/Vegetable Images/\"\n",
    "\n",
    "train_folder = os.path.join(dataset, \"train\")\n",
    "test_folder = os.path.join(dataset, \"validation\")\n",
    "validation_folder = os.path.join(dataset, \"test\")"
   ]
  },
  {
   "attachments": {},
   "cell_type": "markdown",
   "id": "37996810-f59d-455e-8d60-5b8f5bb23bfe",
   "metadata": {},
   "source": [
    "# Dataset preparation"
   ]
  },
  {
   "cell_type": "code",
   "execution_count": null,
   "id": "329461da-016f-480b-ad5f-16b509d7ba24",
   "metadata": {},
   "outputs": [],
   "source": [
    "# Generate batches of tensor image data with real-time data augmentation.\n",
    "train_datagen = image.ImageDataGenerator(\n",
    "    rescale=1.0 / 255, shear_range=0.2, zoom_range=0.2, horizontal_flip=True\n",
    ")\n",
    "\n",
    "# Takes the path to a directory & generates batches of augmented data.\n",
    "train_dataset = train_datagen.flow_from_directory(\n",
    "    train_folder, target_size=(224, 224), batch_size=64, class_mode=\"categorical\"\n",
    ")\n",
    "\n",
    "# Generate batches of tensor image data with real-time data augmentation.\n",
    "test_datagen = image.ImageDataGenerator(rescale=1.0 / 255)\n",
    "\n",
    "# Takes the path to a directory & generates batches of augmented data.\n",
    "test_dataset = test_datagen.flow_from_directory(\n",
    "    test_folder, target_size=(224, 224), batch_size=64, class_mode=\"categorical\"\n",
    ")\n",
    "\n",
    "class_map = train_dataset.class_indices\n",
    "print(class_map)"
   ]
  },
  {
   "cell_type": "code",
   "execution_count": null,
   "id": "5c51113a-161e-4bef-abc6-eed1a397ec5c",
   "metadata": {},
   "outputs": [],
   "source": []
  }
 ],
 "metadata": {
  "kernelspec": {
   "display_name": "Python 3.9.16",
   "language": "python",
   "name": "python3"
  },
  "language_info": {
   "codemirror_mode": {
    "name": "ipython",
    "version": 3
   },
   "file_extension": ".py",
   "mimetype": "text/x-python",
   "name": "python",
   "nbconvert_exporter": "python",
   "pygments_lexer": "ipython3",
   "version": "3.9.16"
  }
 },
 "nbformat": 4,
 "nbformat_minor": 5
}
