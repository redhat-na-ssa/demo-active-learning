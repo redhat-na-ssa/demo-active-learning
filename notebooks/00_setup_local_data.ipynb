{
 "cells": [
  {
   "cell_type": "markdown",
   "metadata": {},
   "source": [
    "# Setup Scratch"
   ]
  },
  {
   "cell_type": "code",
   "execution_count": null,
   "metadata": {},
   "outputs": [],
   "source": [
    "import os\n",
    "\n",
    "# scratch directory is apart of the .gitignore to ensure it is not committed to git\n",
    "%env SCRATCH=../scratch\n",
    "! [ -e \"${SCRATCH}\" ] || mkdir -p \"${SCRATCH}\"\n",
    "\n",
    "scratch_path = os.environ.get(\"SCRATCH\", \"scratch\")"
   ]
  },
  {
   "cell_type": "code",
   "execution_count": null,
   "metadata": {},
   "outputs": [],
   "source": [
    "# install dependencies\n",
    "%pip install -q -U pip\n",
    "%pip install -q -r requirements.txt"
   ]
  },
  {
   "cell_type": "markdown",
   "metadata": {},
   "source": [
    "# Download the kaggle data\n",
    "1. create an account on [kaggle](www.kaggle.com)\n",
    "1. from your profile > settings > create a new token\n",
    "1. export your Kaggle username and token to the environment\n",
    "```\n",
    "export KAGGLE_USERNAME=datadinosaur\n",
    "export KAGGLE_KEY=xxxxxxxxxxxxxx\n",
    "```\n",
    "1. verify the configuration running `kaggle --version` in the terminal\n",
    "\n",
    "## Citation\n",
    "\n",
    "https://www.researchgate.net/publication/352846889_DCNN-Based_Vegetable_Image_Classification_Using_Transfer_Learning_A_Comparative_Study"
   ]
  },
  {
   "cell_type": "code",
   "execution_count": null,
   "metadata": {},
   "outputs": [],
   "source": [
    "# set your environment variables\n",
    "%set_env KAGGLE_USERNAME=<USERNAME>\n",
    "%set_env KAGGLE_KEY=<KEY>"
   ]
  },
  {
   "cell_type": "code",
   "execution_count": null,
   "metadata": {},
   "outputs": [],
   "source": [
    "# download dataset to scratch\n",
    "! cd ${SCRATCH}; kaggle datasets download -d misrakahmed/vegetable-image-dataset"
   ]
  },
  {
   "cell_type": "code",
   "execution_count": null,
   "metadata": {},
   "outputs": [],
   "source": [
    "# extract kaggle dataset\n",
    "! cd ${SCRATCH}; unzip -n vegetable-image-dataset.zip"
   ]
  },
  {
   "cell_type": "code",
   "execution_count": null,
   "metadata": {},
   "outputs": [],
   "source": []
  }
 ],
 "metadata": {
  "kernelspec": {
   "display_name": "Python 3.9.16",
   "language": "python",
   "name": "python3"
  },
  "language_info": {
   "codemirror_mode": {
    "name": "ipython",
    "version": 3
   },
   "file_extension": ".py",
   "mimetype": "text/x-python",
   "name": "python",
   "nbconvert_exporter": "python",
   "pygments_lexer": "ipython3",
   "version": "3.9.16"
  }
 },
 "nbformat": 4,
 "nbformat_minor": 4
}
