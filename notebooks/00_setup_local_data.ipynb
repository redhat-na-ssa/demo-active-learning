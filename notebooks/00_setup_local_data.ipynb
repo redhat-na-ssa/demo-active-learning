{
 "cells": [
  {
   "attachments": {},
   "cell_type": "markdown",
   "metadata": {},
   "source": [
    "# Setup Scratch"
   ]
  },
  {
   "cell_type": "code",
   "execution_count": null,
   "metadata": {},
   "outputs": [],
   "source": [
    "import os\n",
    "\n",
    "# scratch directory is apart of the .gitignore to ensure it is not committed to git\n",
    "%env SCRATCH=../scratch\n",
    "! [ -e \"${SCRATCH}\" ] || mkdir -p \"${SCRATCH}\"\n",
    "\n",
    "scratch_path = os.environ.get('SCRATCH', 'scratch')"
   ]
  },
  {
   "attachments": {},
   "cell_type": "markdown",
   "metadata": {},
   "source": [
    "# Download the kaggle data\n",
    "1. create an account on [kaggle](www.kaggle.com)\n",
    "1. from your profile > settings > create a new token\n",
    "1. export your Kaggle username and token to the environment\n",
    "```\n",
    "export KAGGLE_USERNAME=datadinosaur\n",
    "export KAGGLE_KEY=xxxxxxxxxxxxxx\n",
    "```\n",
    "1. verify the configuration running `kaggle --version` in the terminal\n",
    "\n",
    "## Citation\n",
    "\n",
    "https://www.researchgate.net/publication/352846889_DCNN-Based_Vegetable_Image_Classification_Using_Transfer_Learning_A_Comparative_Study"
   ]
  },
  {
   "cell_type": "code",
   "execution_count": null,
   "metadata": {},
   "outputs": [],
   "source": [
    "\n",
    "# download kaggle archive into scratch\n",
    "# DO THIS MANUALLY \n",
    "# Launch Terminal\n",
    "# Change to scratch dir 'cd scratch/'\n",
    "# Download from the following url\n",
    "# https://www.kaggle.com/datasets/misrakahmed/vegetable-image-dataset?resource=download"
   ]
  },
  {
   "cell_type": "code",
   "execution_count": null,
   "metadata": {},
   "outputs": [],
   "source": [
    "%set_env KAGGLE_USERNAME=<ENTER YOUR USERNAME>\n",
    "%set_env KAGGLE_KEY=<ENTER YOUR KEY>"
   ]
  },
  {
   "cell_type": "code",
   "execution_count": null,
   "metadata": {},
   "outputs": [],
   "source": [
    "# download dataset to scratch\n",
    "! cd ${SCRATCH}; kaggle datasets download -d misrakahmed/vegetable-image-dataset"
   ]
  },
  {
   "cell_type": "code",
   "execution_count": null,
   "metadata": {},
   "outputs": [],
   "source": [
    "# extract kaggle dataset\n",
    "! cd ${SCRATCH}; unzip -n vegetable-image-dataset.zip"
   ]
  }
 ],
 "metadata": {
  "kernelspec": {
   "display_name": "venv",
   "language": "python",
   "name": "python3"
  },
  "language_info": {
   "codemirror_mode": {
    "name": "ipython",
    "version": 3
   },
   "file_extension": ".py",
   "mimetype": "text/x-python",
   "name": "python",
   "nbconvert_exporter": "python",
   "pygments_lexer": "ipython3",
   "version": "3.8.17"
  },
  "orig_nbformat": 4
 },
 "nbformat": 4,
 "nbformat_minor": 2
}
