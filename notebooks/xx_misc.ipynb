{
 "cells": [
  {
   "cell_type": "code",
   "execution_count": null,
   "metadata": {},
   "outputs": [],
   "source": [
    "# s3 = boto3.resource(\n",
    "#     \"s3\",\n",
    "#     aws_access_key_id=access_key,\n",
    "#     aws_secret_access_key=secret,\n",
    "#     config=boto3.session.Config(signature_version=\"s3v4\"),\n",
    "#     verify=False,\n",
    "#     endpoint_url=s3_endpoint,\n",
    "# )\n",
    "# s3_client = s3.meta.client\n",
    "\n",
    "# bucket = s3.Bucket(bucket_name)\n",
    "\n",
    "# objects = bucket.objects.filter(Prefix=\"/\")\n",
    "# for obj in objects:\n",
    "#     path, filename = os.path.split(obj.key)\n",
    "#     if len(path) != 0 and not os.path.exists(os.path.join(local_dest_dir, path)):\n",
    "#         os.makedirs(os.path.join(local_dest_dir, path))\n",
    "#     if not obj.key.endswith(\"/\"):\n",
    "#         download_to = local_dest_dir + path + \"/\" + filename if path else filename\n",
    "#         s3_client.download_file(bucket_name, obj.key, download_to)"
   ]
  }
 ],
 "metadata": {
  "kernelspec": {
   "display_name": "Python 3.9.16",
   "language": "python",
   "name": "python3"
  },
  "language_info": {
   "codemirror_mode": {
    "name": "ipython",
    "version": 3
   },
   "file_extension": ".py",
   "mimetype": "text/x-python",
   "name": "python",
   "nbconvert_exporter": "python",
   "pygments_lexer": "ipython3",
   "version": "3.8.17"
  }
 },
 "nbformat": 4,
 "nbformat_minor": 4
}
