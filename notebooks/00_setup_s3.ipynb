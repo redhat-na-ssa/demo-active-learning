{
 "cells": [
  {
   "attachments": {},
   "cell_type": "markdown",
   "metadata": {},
   "source": [
    "# Setup Scratch"
   ]
  },
  {
   "cell_type": "code",
   "execution_count": null,
   "metadata": {},
   "outputs": [],
   "source": [
    "import os\n",
    "\n",
    "# scratch directory is apart of the .gitignore to ensure it is not committed to git\n",
    "%env SCRATCH=../scratch\n",
    "! [ -e \"${SCRATCH}\" ] || mkdir -p \"${SCRATCH}\"\n",
    "\n",
    "scratch_path = os.environ.get('SCRATCH', 'scratch')"
   ]
  },
  {
   "cell_type": "code",
   "execution_count": null,
   "metadata": {},
   "outputs": [],
   "source": [
    "%set_env AWS_ACCESS_KEY_ID=minioadmin\n",
    "%set_env AWS_SECRET_ACCESS_KEY=minioadmin\n",
    "%set_env AWS_S3_ENDPOINT=http://localhost:9000\n",
    "%set_env AWS_S3_BUCKET=models"
   ]
  },
  {
   "cell_type": "code",
   "execution_count": null,
   "metadata": {},
   "outputs": [],
   "source": [
    "# fetch all env variable these values will be fetched from Data Connection setup\n",
    "\n",
    "access_key = os.getenv(\"AWS_ACCESS_KEY_ID\")\n",
    "secret_key = os.getenv(\"AWS_SECRET_ACCESS_KEY\")\n",
    "s3_endpoint = os.getenv(\"AWS_S3_ENDPOINT\").lstrip('http://')\n",
    "bucket_name = os.getenv(\"AWS_S3_BUCKET\")"
   ]
  },
  {
   "cell_type": "code",
   "execution_count": null,
   "metadata": {},
   "outputs": [],
   "source": [
    "# create s3 bucket\n",
    "# upload files to bucket\n",
    "# download files from bucket\n",
    "\n",
    "#!/usr/bin/python3\n",
    "from minio import Minio\n",
    "import sys\n",
    "import os\n",
    "import urllib3\n",
    "import glob\n",
    "\n",
    "urllib3.disable_warnings(urllib3.exceptions.InsecureRequestWarning)\n",
    "\n",
    "# Create a Minio client object\n",
    "minio_client = Minio(s3_endpoint,\n",
    "                     access_key=access_key,\n",
    "                     secret_key=secret_key,\n",
    "                     secure=False)\n",
    "\n",
    "def upload_local_directory_to_minio(local_path, bucket_name):\n",
    "    assert os.path.isdir(local_path)\n",
    "\n",
    "    # Upload files in the directory to the bucket\n",
    "    for file_name in glob.glob(local_path + '/**'):\n",
    "        file_name = file_name.replace(os.sep, \"/\")\n",
    "        print(\"file_name: \" + file_name)\n",
    "        if not os.path.isfile(file_name):\n",
    "            upload_local_directory_to_minio(\n",
    "                file_name, bucket_name)\n",
    "        else:\n",
    "            remote_path = os.path.join(\n",
    "                local_path.lstrip(scratch_path), file_name[1 + len(file_name):])\n",
    "            remote_path = remote_path.replace(os.sep, '/')\n",
    "            print(\"remote_path: \" + remote_path + os.path.basename(file_name))\n",
    "            minio_client.fput_object(bucket_name, remote_path + os.path.basename(file_name), file_name)\n",
    "\n",
    "try:\n",
    "    # Check if the bucket already exists\n",
    "    if not minio_client.bucket_exists(bucket_name):\n",
    "        minio_client.make_bucket(bucket_name)\n",
    "        print(f\"Bucket '{bucket_name}' created successfully.\")\n",
    "\n",
    "    upload_local_directory_to_minio(scratch_path + \"/Vegetable Images\", bucket_name)\n",
    "\n",
    "except Exception as err:\n",
    "    print(f\"Failed to upload files to bucket '{bucket_name}': {err}\")"
   ]
  },
  {
   "cell_type": "code",
   "execution_count": null,
   "metadata": {},
   "outputs": [],
   "source": [
    "\n",
    "s3 = boto3.resource(\n",
    "    \"s3\",\n",
    "    aws_access_key_id=access_key,\n",
    "    aws_secret_access_key=secret,\n",
    "    config=boto3.session.Config(signature_version=\"s3v4\"),\n",
    "    verify=False,\n",
    "    endpoint_url=s3_endpoint,\n",
    ")\n",
    "s3_client = s3.meta.client\n",
    "\n",
    "bucket = s3.Bucket(bucket_name)\n",
    "\n",
    "objects = bucket.objects.filter(Prefix=\"/\")\n",
    "for obj in objects:\n",
    "    path, filename = os.path.split(obj.key)\n",
    "    if len(path) != 0 and not os.path.exists(os.path.join(local_dest_dir, path)):\n",
    "        os.makedirs(os.path.join(local_dest_dir, path))\n",
    "    if not obj.key.endswith(\"/\"):\n",
    "        download_to = local_dest_dir + path + \"/\" + filename if path else filename\n",
    "        s3_client.download_file(bucket_name, obj.key, download_to)"
   ]
  },
  {
   "cell_type": "code",
   "execution_count": null,
   "metadata": {},
   "outputs": [],
   "source": []
  }
 ],
 "metadata": {
  "kernelspec": {
   "display_name": "Python 3.9.16",
   "language": "python",
   "name": "python3"
  },
  "language_info": {
   "codemirror_mode": {
    "name": "ipython",
    "version": 3
   },
   "file_extension": ".py",
   "mimetype": "text/x-python",
   "name": "python",
   "nbconvert_exporter": "python",
   "pygments_lexer": "ipython3",
   "version": "3.8.17"
  }
 },
 "nbformat": 4,
 "nbformat_minor": 4
}
