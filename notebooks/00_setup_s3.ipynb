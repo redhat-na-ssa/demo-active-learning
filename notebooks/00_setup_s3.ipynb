{
 "cells": [
  {
   "cell_type": "markdown",
   "metadata": {},
   "source": [
    "# Setup Scratch"
   ]
  },
  {
   "cell_type": "code",
   "execution_count": 7,
   "metadata": {},
   "outputs": [
    {
     "name": "stdout",
     "output_type": "stream",
     "text": [
      "env: SCRATCH=../scratch\n"
     ]
    }
   ],
   "source": [
    "import os\n",
    "\n",
    "# scratch directory is apart of the .gitignore to ensure it is not committed to git\n",
    "%env SCRATCH=../scratch\n",
    "! [ -e \"${SCRATCH}\" ] || mkdir -p \"${SCRATCH}\"\n",
    "\n",
    "scratch_path = os.environ.get('SCRATCH', 'scratch')"
   ]
  },
  {
   "cell_type": "code",
   "execution_count": 8,
   "metadata": {},
   "outputs": [],
   "source": [
    "# fetch all env variable these values will be fetched from Data Connection setup\n",
    "\n",
    "access_key = os.getenv(\"AWS_ACCESS_KEY_ID\")\n",
    "secret_key = os.getenv(\"AWS_SECRET_ACCESS_KEY\")\n",
    "s3_endpoint = os.getenv(\"AWS_S3_ENDPOINT\").lstrip('http://')\n",
    "bucket_name = os.getenv(\"AWS_S3_BUCKET\")"
   ]
  },
  {
   "cell_type": "code",
   "execution_count": 14,
   "metadata": {},
   "outputs": [
    {
     "name": "stdout",
     "output_type": "stream",
     "text": [
      "file_name: ../scratch/Vegetable Images\n",
      "file_name: ../scratch/Vegetable Images/test\n",
      "file_name: ../scratch/Vegetable Images/test/Radish\n",
      "file_name: ../scratch/Vegetable Images/test/Radish/1044.jpg\n",
      "remote_path: Vegetable Images/test/Radish/ ../scratch/Vegetable Images/test/Radish/1044.jpg\n",
      "Failed to upload files to bucket 'models': [Errno 2] No such file or directory: '1044.jpg'\n"
     ]
    }
   ],
   "source": [
    "# create s3 bucket\n",
    "# upload files to bucket\n",
    "# download files from bucket\n",
    "\n",
    "#!/usr/bin/python3\n",
    "from minio import Minio\n",
    "import sys\n",
    "import os\n",
    "import urllib3\n",
    "import glob\n",
    "\n",
    "urllib3.disable_warnings(urllib3.exceptions.InsecureRequestWarning)\n",
    "\n",
    "# Create a Minio client object\n",
    "minio_client = Minio(s3_endpoint,\n",
    "                     access_key=access_key,\n",
    "                     secret_key=secret_key,\n",
    "                     secure=False)\n",
    "\n",
    "def upload_local_directory_to_minio(local_path, bucket_name):\n",
    "    assert os.path.isdir(local_path)\n",
    "\n",
    "    # Upload files in the directory to the bucket\n",
    "    for file_name in glob.glob(local_path + '/**'):\n",
    "        file_name = file_name.replace(os.sep, \"/\")\n",
    "        print(\"file_name: \" + file_name)\n",
    "        if not os.path.isfile(file_name):\n",
    "            upload_local_directory_to_minio(\n",
    "                file_name, bucket_name)\n",
    "        else:\n",
    "            remote_path = os.path.join(\n",
    "                local_path.lstrip('../scratch/'), file_name[1 + len(file_name):])\n",
    "            remote_path = remote_path.replace(os.sep, '/')\n",
    "            print(\"remote_path: \" + remote_path, file_name)\n",
    "            minio_client.fput_object(bucket_name, remote_path, os.path.basename(file_name))\n",
    "\n",
    "try:\n",
    "    # Check if the bucket already exists\n",
    "    if not minio_client.bucket_exists(bucket_name):\n",
    "        minio_client.make_bucket(bucket_name)\n",
    "        print(f\"Bucket '{bucket_name}' created successfully.\")\n",
    "\n",
    "    upload_local_directory_to_minio(scratch_path, bucket_name)\n",
    "\n",
    "except Exception as err:\n",
    "    print(f\"Failed to upload files to bucket '{bucket_name}': {err}\")"
   ]
  },
  {
   "cell_type": "code",
   "execution_count": 5,
   "metadata": {},
   "outputs": [
    {
     "ename": "NameError",
     "evalue": "name 'boto3' is not defined",
     "output_type": "error",
     "traceback": [
      "\u001b[0;31m---------------------------------------------------------------------------\u001b[0m",
      "\u001b[0;31mNameError\u001b[0m                                 Traceback (most recent call last)",
      "Cell \u001b[0;32mIn[5], line 1\u001b[0m\n\u001b[0;32m----> 1\u001b[0m s3 \u001b[38;5;241m=\u001b[39m \u001b[43mboto3\u001b[49m\u001b[38;5;241m.\u001b[39mresource(\n\u001b[1;32m      2\u001b[0m     \u001b[38;5;124m\"\u001b[39m\u001b[38;5;124ms3\u001b[39m\u001b[38;5;124m\"\u001b[39m,\n\u001b[1;32m      3\u001b[0m     aws_access_key_id\u001b[38;5;241m=\u001b[39maccess_key,\n\u001b[1;32m      4\u001b[0m     aws_secret_access_key\u001b[38;5;241m=\u001b[39msecret,\n\u001b[1;32m      5\u001b[0m     config\u001b[38;5;241m=\u001b[39mboto3\u001b[38;5;241m.\u001b[39msession\u001b[38;5;241m.\u001b[39mConfig(signature_version\u001b[38;5;241m=\u001b[39m\u001b[38;5;124m\"\u001b[39m\u001b[38;5;124ms3v4\u001b[39m\u001b[38;5;124m\"\u001b[39m),\n\u001b[1;32m      6\u001b[0m     verify\u001b[38;5;241m=\u001b[39m\u001b[38;5;28;01mFalse\u001b[39;00m,\n\u001b[1;32m      7\u001b[0m     endpoint_url\u001b[38;5;241m=\u001b[39ms3_endpoint,\n\u001b[1;32m      8\u001b[0m )\n\u001b[1;32m      9\u001b[0m s3_client \u001b[38;5;241m=\u001b[39m s3\u001b[38;5;241m.\u001b[39mmeta\u001b[38;5;241m.\u001b[39mclient\n\u001b[1;32m     11\u001b[0m bucket \u001b[38;5;241m=\u001b[39m s3\u001b[38;5;241m.\u001b[39mBucket(bucket_name)\n",
      "\u001b[0;31mNameError\u001b[0m: name 'boto3' is not defined"
     ]
    }
   ],
   "source": [
    "\n",
    "s3 = boto3.resource(\n",
    "    \"s3\",\n",
    "    aws_access_key_id=access_key,\n",
    "    aws_secret_access_key=secret,\n",
    "    config=boto3.session.Config(signature_version=\"s3v4\"),\n",
    "    verify=False,\n",
    "    endpoint_url=s3_endpoint,\n",
    ")\n",
    "s3_client = s3.meta.client\n",
    "\n",
    "bucket = s3.Bucket(bucket_name)\n",
    "\n",
    "objects = bucket.objects.filter(Prefix=\"/\")\n",
    "for obj in objects:\n",
    "    path, filename = os.path.split(obj.key)\n",
    "    if len(path) != 0 and not os.path.exists(os.path.join(local_dest_dir, path)):\n",
    "        os.makedirs(os.path.join(local_dest_dir, path))\n",
    "    if not obj.key.endswith(\"/\"):\n",
    "        download_to = local_dest_dir + path + \"/\" + filename if path else filename\n",
    "        s3_client.download_file(bucket_name, obj.key, download_to)"
   ]
  },
  {
   "cell_type": "code",
   "execution_count": null,
   "metadata": {},
   "outputs": [],
   "source": []
  }
 ],
 "metadata": {
  "kernelspec": {
   "display_name": "Python 3.9.16",
   "language": "python",
   "name": "python3"
  },
  "language_info": {
   "codemirror_mode": {
    "name": "ipython",
    "version": 3
   },
   "file_extension": ".py",
   "mimetype": "text/x-python",
   "name": "python",
   "nbconvert_exporter": "python",
   "pygments_lexer": "ipython3",
   "version": "3.9.16"
  }
 },
 "nbformat": 4,
 "nbformat_minor": 4
}
