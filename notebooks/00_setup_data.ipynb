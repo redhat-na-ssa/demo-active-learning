{
 "cells": [
  {
   "cell_type": "code",
   "execution_count": null,
   "metadata": {},
   "outputs": [],
   "source": [
    "# setup scratch area to explore data\n",
    "! mkdir -p ../scratch\n",
    "\n",
    "# download kaggle archive into scratch\n",
    "# DO THIS MANUALLY \n",
    "# Launch Terminal\n",
    "# Change to scratch dir 'cd scratch/'\n",
    "# Download from the following url\n",
    "# https://www.kaggle.com/datasets/misrakahmed/vegetable-image-dataset?resource=download"
   ]
  },
  {
   "cell_type": "code",
   "execution_count": null,
   "metadata": {},
   "outputs": [],
   "source": [
    "# extract kaggle dataset\n",
    "! cd ../scratch; unzip -n archive.zip"
   ]
  }
 ],
 "metadata": {
  "kernelspec": {
   "display_name": "venv",
   "language": "python",
   "name": "python3"
  },
  "language_info": {
   "codemirror_mode": {
    "name": "ipython",
    "version": 3
   },
   "file_extension": ".py",
   "mimetype": "text/x-python",
   "name": "python",
   "nbconvert_exporter": "python",
   "pygments_lexer": "ipython3",
   "version": "3.9.6"
  },
  "orig_nbformat": 4
 },
 "nbformat": 4,
 "nbformat_minor": 2
}
